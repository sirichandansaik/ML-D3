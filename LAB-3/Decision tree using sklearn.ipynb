{
 "cells": [
  {
   "cell_type": "code",
   "execution_count": 2,
   "id": "c3785306",
   "metadata": {},
   "outputs": [
    {
     "name": "stdout",
     "output_type": "stream",
     "text": [
      "      vhigh vhigh.1      2   2.1  small   low  unacc\n",
      "0     vhigh   vhigh      2     2  small   med  unacc\n",
      "1     vhigh   vhigh      2     2  small  high  unacc\n",
      "2     vhigh   vhigh      2     2    med   low  unacc\n",
      "3     vhigh   vhigh      2     2    med   med  unacc\n",
      "4     vhigh   vhigh      2     2    med  high  unacc\n",
      "...     ...     ...    ...   ...    ...   ...    ...\n",
      "1722    low     low  5more  more    med   med   good\n",
      "1723    low     low  5more  more    med  high  vgood\n",
      "1724    low     low  5more  more    big   low  unacc\n",
      "1725    low     low  5more  more    big   med   good\n",
      "1726    low     low  5more  more    big  high  vgood\n",
      "\n",
      "[1727 rows x 7 columns]\n"
     ]
    }
   ],
   "source": [
    "import pandas as pd\n",
    "from sklearn import tree\n",
    "from sklearn.model_selection import train_test_split\n",
    "from sklearn.tree import DecisionTreeClassifier\n",
    "import matplotlib.pyplot as plt\n",
    "import matplotlib.image as img\n",
    "from sklearn import preprocessing\n",
    "from sklearn.metrics import accuracy_score\n",
    "data = pd.read_csv(\"myhead.csv\")\n",
    "print(data)"
   ]
  },
  {
   "cell_type": "code",
   "execution_count": 3,
   "id": "e1e14297",
   "metadata": {},
   "outputs": [
    {
     "data": {
      "text/plain": [
       "['vhigh', 'vhigh.1', '2', '2.1', 'small', 'low']"
      ]
     },
     "execution_count": 3,
     "metadata": {},
     "output_type": "execute_result"
    }
   ],
   "source": [
    "list(data.columns[:-1])"
   ]
  },
  {
   "cell_type": "code",
   "execution_count": 4,
   "id": "131a1738",
   "metadata": {},
   "outputs": [
    {
     "name": "stdout",
     "output_type": "stream",
     "text": [
      "(1122, 6)\n"
     ]
    }
   ],
   "source": [
    "X=data.drop(data.columns[-1],axis=1)\n",
    "Y=data[data.columns[-1]]\n",
    "X_train,X_test,Y_train,Y_test = train_test_split(X,Y,test_size=0.35,random_state=123)\n",
    "print(X_train.shape)"
   ]
  },
  {
   "cell_type": "code",
   "execution_count": 6,
   "id": "de98aac1",
   "metadata": {},
   "outputs": [],
   "source": [
    "le = preprocessing.LabelEncoder()\n",
    "for column_name in X_train.columns:\n",
    "    if X_train[column_name].dtype == object:\n",
    "        X_train[column_name] = le.fit_transform(X_train[column_name])\n",
    "    else:\n",
    "        pass"
   ]
  },
  {
   "cell_type": "code",
   "execution_count": 7,
   "id": "e4f936b0",
   "metadata": {},
   "outputs": [],
   "source": [
    "dtree = DecisionTreeClassifier(criterion=\"entropy\")\n",
    "dtree = dtree.fit(X_train,Y_train)"
   ]
  },
  {
   "cell_type": "code",
   "execution_count": 9,
   "id": "8c4df773",
   "metadata": {},
   "outputs": [],
   "source": [
    "le = preprocessing.LabelEncoder()\n",
    "for column_name in X_test.columns:\n",
    "    if X_test[column_name].dtype == object:\n",
    "        X_test[column_name] = le.fit_transform(X_test[column_name])\n",
    "    else:\n",
    "        pass"
   ]
  },
  {
   "cell_type": "code",
   "execution_count": 10,
   "id": "a1f515af",
   "metadata": {},
   "outputs": [],
   "source": [
    "y_pred = dtree.predict(X_test)"
   ]
  },
  {
   "cell_type": "code",
   "execution_count": 11,
   "id": "68ffd18b",
   "metadata": {},
   "outputs": [
    {
     "name": "stdout",
     "output_type": "stream",
     "text": [
      "['good' 'unacc' 'unacc' 'acc' 'vgood' 'acc' 'unacc' 'unacc' 'unacc'\n",
      " 'unacc' 'acc' 'unacc' 'acc' 'unacc' 'good' 'unacc' 'good' 'acc' 'acc'\n",
      " 'vgood' 'vgood' 'unacc' 'unacc' 'unacc' 'unacc' 'unacc' 'unacc' 'unacc'\n",
      " 'unacc' 'acc' 'unacc' 'unacc' 'acc' 'acc' 'unacc' 'unacc' 'unacc' 'unacc'\n",
      " 'unacc' 'acc' 'acc' 'unacc' 'unacc' 'unacc' 'unacc' 'unacc' 'unacc'\n",
      " 'unacc' 'acc' 'unacc' 'unacc' 'acc' 'acc' 'unacc' 'unacc' 'vgood' 'unacc'\n",
      " 'unacc' 'acc' 'vgood' 'good' 'unacc' 'unacc' 'acc' 'unacc' 'unacc'\n",
      " 'unacc' 'unacc' 'unacc' 'unacc' 'unacc' 'unacc' 'acc' 'acc' 'acc' 'unacc'\n",
      " 'unacc' 'acc' 'unacc' 'vgood' 'unacc' 'unacc' 'unacc' 'vgood' 'good'\n",
      " 'acc' 'vgood' 'acc' 'acc' 'unacc' 'unacc' 'unacc' 'unacc' 'unacc' 'unacc'\n",
      " 'unacc' 'unacc' 'acc' 'unacc' 'acc' 'unacc' 'acc' 'unacc' 'unacc' 'acc'\n",
      " 'vgood' 'unacc' 'unacc' 'acc' 'vgood' 'unacc' 'unacc' 'good' 'unacc'\n",
      " 'acc' 'unacc' 'unacc' 'unacc' 'acc' 'unacc' 'acc' 'unacc' 'unacc' 'unacc'\n",
      " 'unacc' 'unacc' 'unacc' 'unacc' 'acc' 'unacc' 'unacc' 'unacc' 'unacc'\n",
      " 'acc' 'acc' 'acc' 'unacc' 'acc' 'unacc' 'acc' 'unacc' 'unacc' 'unacc'\n",
      " 'good' 'unacc' 'unacc' 'unacc' 'unacc' 'unacc' 'unacc' 'acc' 'acc' 'good'\n",
      " 'unacc' 'unacc' 'unacc' 'unacc' 'unacc' 'unacc' 'acc' 'unacc' 'unacc'\n",
      " 'unacc' 'acc' 'unacc' 'unacc' 'unacc' 'unacc' 'acc' 'unacc' 'good'\n",
      " 'unacc' 'unacc' 'unacc' 'unacc' 'acc' 'unacc' 'acc' 'unacc' 'unacc'\n",
      " 'unacc' 'unacc' 'unacc' 'unacc' 'unacc' 'unacc' 'unacc' 'acc' 'unacc'\n",
      " 'acc' 'unacc' 'acc' 'unacc' 'unacc' 'unacc' 'acc' 'good' 'unacc' 'unacc'\n",
      " 'unacc' 'acc' 'unacc' 'unacc' 'unacc' 'unacc' 'unacc' 'unacc' 'good'\n",
      " 'acc' 'unacc' 'unacc' 'acc' 'unacc' 'unacc' 'acc' 'acc' 'unacc' 'acc'\n",
      " 'acc' 'acc' 'unacc' 'unacc' 'unacc' 'acc' 'acc' 'unacc' 'unacc' 'unacc'\n",
      " 'unacc' 'acc' 'acc' 'unacc' 'unacc' 'unacc' 'good' 'good' 'unacc' 'unacc'\n",
      " 'unacc' 'acc' 'unacc' 'unacc' 'unacc' 'acc' 'unacc' 'unacc' 'acc' 'unacc'\n",
      " 'unacc' 'unacc' 'vgood' 'good' 'unacc' 'unacc' 'unacc' 'unacc' 'unacc'\n",
      " 'unacc' 'acc' 'unacc' 'unacc' 'acc' 'acc' 'unacc' 'unacc' 'unacc' 'unacc'\n",
      " 'acc' 'unacc' 'unacc' 'acc' 'unacc' 'acc' 'unacc' 'unacc' 'unacc' 'unacc'\n",
      " 'acc' 'good' 'unacc' 'unacc' 'unacc' 'unacc' 'vgood' 'unacc' 'unacc'\n",
      " 'unacc' 'unacc' 'acc' 'unacc' 'unacc' 'good' 'acc' 'unacc' 'unacc'\n",
      " 'unacc' 'unacc' 'unacc' 'unacc' 'acc' 'vgood' 'acc' 'acc' 'vgood' 'unacc'\n",
      " 'unacc' 'unacc' 'unacc' 'unacc' 'acc' 'unacc' 'unacc' 'unacc' 'unacc'\n",
      " 'unacc' 'unacc' 'unacc' 'unacc' 'unacc' 'unacc' 'unacc' 'acc' 'unacc'\n",
      " 'unacc' 'good' 'unacc' 'acc' 'acc' 'unacc' 'unacc' 'unacc' 'unacc'\n",
      " 'unacc' 'unacc' 'unacc' 'unacc' 'unacc' 'unacc' 'unacc' 'unacc' 'acc'\n",
      " 'unacc' 'unacc' 'unacc' 'unacc' 'unacc' 'acc' 'unacc' 'unacc' 'unacc'\n",
      " 'acc' 'unacc' 'unacc' 'acc' 'acc' 'acc' 'unacc' 'unacc' 'unacc' 'unacc'\n",
      " 'unacc' 'unacc' 'unacc' 'unacc' 'vgood' 'unacc' 'acc' 'unacc' 'vgood'\n",
      " 'good' 'unacc' 'unacc' 'acc' 'acc' 'acc' 'unacc' 'unacc' 'unacc' 'acc'\n",
      " 'unacc' 'unacc' 'acc' 'unacc' 'acc' 'unacc' 'unacc' 'unacc' 'unacc'\n",
      " 'unacc' 'good' 'unacc' 'unacc' 'acc' 'unacc' 'unacc' 'unacc' 'unacc'\n",
      " 'good' 'vgood' 'unacc' 'unacc' 'unacc' 'unacc' 'acc' 'unacc' 'acc'\n",
      " 'unacc' 'unacc' 'unacc' 'unacc' 'unacc' 'unacc' 'unacc' 'acc' 'unacc'\n",
      " 'unacc' 'unacc' 'unacc' 'unacc' 'unacc' 'acc' 'acc' 'acc' 'unacc' 'acc'\n",
      " 'unacc' 'unacc' 'unacc' 'unacc' 'acc' 'vgood' 'unacc' 'unacc' 'acc'\n",
      " 'unacc' 'unacc' 'unacc' 'unacc' 'acc' 'vgood' 'unacc' 'unacc' 'acc'\n",
      " 'unacc' 'unacc' 'unacc' 'unacc' 'unacc' 'unacc' 'unacc' 'acc' 'acc'\n",
      " 'unacc' 'unacc' 'unacc' 'unacc' 'acc' 'unacc' 'unacc' 'acc' 'unacc' 'acc'\n",
      " 'acc' 'unacc' 'acc' 'unacc' 'unacc' 'unacc' 'unacc' 'unacc' 'unacc'\n",
      " 'unacc' 'unacc' 'unacc' 'unacc' 'unacc' 'acc' 'unacc' 'unacc' 'acc'\n",
      " 'unacc' 'unacc' 'unacc' 'unacc' 'unacc' 'unacc' 'unacc' 'unacc' 'acc'\n",
      " 'unacc' 'acc' 'unacc' 'unacc' 'unacc' 'unacc' 'unacc' 'acc' 'unacc'\n",
      " 'unacc' 'unacc' 'vgood' 'unacc' 'acc' 'unacc' 'unacc' 'unacc' 'acc'\n",
      " 'good' 'unacc' 'acc' 'unacc' 'unacc' 'good' 'unacc' 'acc' 'unacc' 'unacc'\n",
      " 'acc' 'acc' 'unacc' 'unacc' 'acc' 'unacc' 'unacc' 'unacc' 'unacc' 'unacc'\n",
      " 'acc' 'unacc' 'unacc' 'unacc' 'unacc' 'unacc' 'unacc' 'acc' 'unacc'\n",
      " 'unacc' 'unacc' 'unacc' 'acc' 'vgood' 'unacc' 'unacc' 'unacc' 'unacc'\n",
      " 'unacc' 'unacc' 'unacc' 'unacc' 'unacc' 'vgood' 'unacc' 'unacc' 'acc'\n",
      " 'unacc' 'unacc' 'acc' 'good' 'unacc' 'acc' 'unacc' 'unacc' 'acc' 'unacc'\n",
      " 'unacc' 'unacc' 'unacc' 'acc' 'vgood' 'acc' 'unacc' 'unacc' 'unacc'\n",
      " 'unacc' 'unacc' 'unacc' 'unacc' 'unacc' 'unacc' 'unacc' 'unacc' 'unacc'\n",
      " 'unacc' 'unacc' 'unacc' 'acc' 'unacc' 'acc' 'unacc' 'unacc' 'unacc'\n",
      " 'unacc' 'unacc' 'acc' 'unacc' 'unacc' 'unacc' 'acc' 'good' 'acc' 'acc'\n",
      " 'acc' 'unacc' 'unacc' 'unacc']\n"
     ]
    }
   ],
   "source": [
    "print(y_pred)"
   ]
  },
  {
   "cell_type": "code",
   "execution_count": 12,
   "id": "f0e889b5",
   "metadata": {},
   "outputs": [
    {
     "name": "stdout",
     "output_type": "stream",
     "text": [
      "Accuracy :  0.9752066115702479\n"
     ]
    }
   ],
   "source": [
    "print(\"Accuracy : \",accuracy_score(Y_test,y_pred))"
   ]
  }
 ],
 "metadata": {
  "kernelspec": {
   "display_name": "Python 3 (ipykernel)",
   "language": "python",
   "name": "python3"
  },
  "language_info": {
   "codemirror_mode": {
    "name": "ipython",
    "version": 3
   },
   "file_extension": ".py",
   "mimetype": "text/x-python",
   "name": "python",
   "nbconvert_exporter": "python",
   "pygments_lexer": "ipython3",
   "version": "3.9.7"
  }
 },
 "nbformat": 4,
 "nbformat_minor": 5
}
